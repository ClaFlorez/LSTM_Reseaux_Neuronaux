{
  "cells": [
    {
      "cell_type": "markdown",
      "id": "64fce7ae",
      "metadata": {
        "id": "64fce7ae"
      },
      "source": [
        "\n",
        "# 📘 LSTM pour Analyse de Sentiments (IMDb)\n",
        "**Auteur : Claud·IA** — *Préparation Certification DeepLearning.AI*\n",
        "\n",
        "Ce notebook montre pas à pas comment :\n",
        "1. Charger et préparer le jeu de données **IMDb** (critiques de films, binaire).  \n",
        "2. Construire un **modèle LSTM** en Keras (TensorFlow).  \n",
        "3. Entraîner, visualiser les courbes (*loss* et *accuracy*), puis **évaluer** sur le test.  \n",
        "4. Tester le modèle sur quelques **phrases personnalisées**.\n",
        "\n",
        "> ✨ Objectif pédagogique : illustrer pourquoi le LSTM est adapté aux **séquences** (texte) et comment le mettre en œuvre proprement.\n"
      ]
    },
    {
      "cell_type": "markdown",
      "id": "f94ade74",
      "metadata": {
        "id": "f94ade74"
      },
      "source": [
        "\n",
        "## 🔧 1. Environnement & versions\n",
        "> Colab inclut TensorFlow par défaut. Ci-dessous, on affiche les versions utiles.\n"
      ]
    },
    {
      "cell_type": "code",
      "execution_count": 1,
      "id": "157416d2",
      "metadata": {
        "colab": {
          "base_uri": "https://localhost:8080/"
        },
        "id": "157416d2",
        "outputId": "d61376bf-da2b-4944-ba47-a8b061225486"
      },
      "outputs": [
        {
          "output_type": "stream",
          "name": "stdout",
          "text": [
            "Python: 3.12.12\n",
            "TensorFlow: 2.19.0\n",
            "NumPy: 2.0.2\n",
            "Matplotlib: 3.10.0\n"
          ]
        }
      ],
      "source": [
        "import sys, platform, tensorflow as tf, numpy as np, matplotlib\n",
        "print(\"Python:\", sys.version.split()[0])\n",
        "print(\"TensorFlow:\", tf.__version__)\n",
        "print(\"NumPy:\", np.__version__)\n",
        "print(\"Matplotlib:\", matplotlib.__version__)\n"
      ]
    },
    {
      "cell_type": "markdown",
      "id": "4a26ed2d",
      "metadata": {
        "id": "4a26ed2d"
      },
      "source": [
        "\n",
        "## 📦 2. Imports & Paramètres globaux\n",
        "- **VOCAB_SIZE** : nombre de mots conservés (fréquence).  \n",
        "- **MAX_LEN** : longueur maximale (padding/truncation).  \n",
        "- **EMB_DIM** : dimension de l'embedding.  \n",
        "- **UNITS** : neurones LSTM.\n"
      ]
    },
    {
      "cell_type": "code",
      "execution_count": 2,
      "id": "aafe9447",
      "metadata": {
        "id": "aafe9447"
      },
      "outputs": [],
      "source": [
        "import numpy as np\n",
        "import matplotlib.pyplot as plt\n",
        "import tensorflow as tf\n",
        "from tensorflow.keras.datasets import imdb\n",
        "from tensorflow.keras.preprocessing.sequence import pad_sequences\n",
        "from tensorflow.keras.models import Sequential\n",
        "from tensorflow.keras.layers import Embedding, LSTM, Dense, Dropout\n",
        "from tensorflow.keras.callbacks import EarlyStopping\n",
        "\n",
        "# Reproductibilité\n",
        "SEED = 42\n",
        "np.random.seed(SEED)\n",
        "tf.random.set_seed(SEED)\n",
        "\n",
        "# Hyperparamètres\n",
        "VOCAB_SIZE = 10000   # top 10k mots\n",
        "MAX_LEN    = 200     # longueur des séquences\n",
        "EMB_DIM    = 128     # dimension des vecteurs de mots\n",
        "UNITS      = 128     # neurones LSTM\n",
        "BATCH_SIZE = 64\n",
        "EPOCHS     = 5       # augmenter pr meilleures perfs\n",
        "VAL_SPLIT  = 0.2\n"
      ]
    },
    {
      "cell_type": "markdown",
      "id": "7bf0221b",
      "metadata": {
        "id": "7bf0221b"
      },
      "source": [
        "\n",
        "## 🗂️ 3. Chargement & Préparation du jeu de données IMDb\n",
        "Nous utilisons la version intégrée Keras de **IMDb** (50 000 critiques binaires : *positif/négatif*).\n",
        "- Les critiques sont déjà **tokenisées** en indices d’un dictionnaire.  \n",
        "- On applique un **`pad_sequences`** pour obtenir des longueurs égales (`MAX_LEN`).\n"
      ]
    },
    {
      "cell_type": "code",
      "execution_count": 3,
      "id": "b0f43425",
      "metadata": {
        "colab": {
          "base_uri": "https://localhost:8080/"
        },
        "id": "b0f43425",
        "outputId": "76d2e0b4-23aa-4569-b62f-00b872ca18da"
      },
      "outputs": [
        {
          "output_type": "stream",
          "name": "stdout",
          "text": [
            "Chargement du dataset IMDb...\n",
            "Downloading data from https://storage.googleapis.com/tensorflow/tf-keras-datasets/imdb.npz\n",
            "\u001b[1m17464789/17464789\u001b[0m \u001b[32m━━━━━━━━━━━━━━━━━━━━\u001b[0m\u001b[37m\u001b[0m \u001b[1m0s\u001b[0m 0us/step\n",
            "Taille train: (25000,) | Taille test: (25000,)\n",
            "Forme après padding -> train: (25000, 200) | test: (25000, 200)\n"
          ]
        }
      ],
      "source": [
        "print(\"Chargement du dataset IMDb...\")\n",
        "(X_train, y_train), (X_test, y_test) = imdb.load_data(num_words=VOCAB_SIZE)\n",
        "print(\"Taille train:\", X_train.shape, \"| Taille test:\", X_test.shape)\n",
        "\n",
        "# Normalisation des longueurs\n",
        "X_train = pad_sequences(X_train, maxlen=MAX_LEN, padding='pre', truncating='pre')\n",
        "X_test  = pad_sequences(X_test,  maxlen=MAX_LEN, padding='pre', truncating='pre')\n",
        "\n",
        "print(\"Forme après padding -> train:\", X_train.shape, \"| test:\", X_test.shape)\n"
      ]
    },
    {
      "cell_type": "markdown",
      "id": "4ee7c4d8",
      "metadata": {
        "id": "4ee7c4d8"
      },
      "source": [
        "\n",
        "### 🔍 (Optionnel) Visualiser une critique décodée\n",
        "Le dictionnaire d'origine mappe les mots à des indices. On reconstruit un **dictionnaire inverse** pour un aperçu lisible.\n",
        "> NB : ceci est illustratif et ne correspond pas au prétraitement complet en production.\n"
      ]
    },
    {
      "cell_type": "code",
      "execution_count": 4,
      "id": "7f61d798",
      "metadata": {
        "colab": {
          "base_uri": "https://localhost:8080/"
        },
        "id": "7f61d798",
        "outputId": "e6ef1c1c-97a7-4bfd-bd3f-d6ef8647c31a"
      },
      "outputs": [
        {
          "output_type": "stream",
          "name": "stdout",
          "text": [
            "Downloading data from https://storage.googleapis.com/tensorflow/tf-keras-datasets/imdb_word_index.json\n",
            "\u001b[1m1641221/1641221\u001b[0m \u001b[32m━━━━━━━━━━━━━━━━━━━━\u001b[0m\u001b[37m\u001b[0m \u001b[1m0s\u001b[0m 0us/step\n",
            "Exemple critique (décodée, tronquée) :\n",
            "and you could just imagine being there robert <UNK> is an amazing actor and now the same being director <UNK> father came from the same scottish island as myself so i loved the fact there was a real connection with this film the witty remarks throughout the film were great it was just brilliant so m ...\n"
          ]
        }
      ],
      "source": [
        "# Dictionnaire inverse\n",
        "word_index = imdb.get_word_index()\n",
        "index_word = {v+3: k for k, v in word_index.items()}\n",
        "index_word[0] = \"<PAD>\"\n",
        "index_word[1] = \"<START>\"\n",
        "index_word[2] = \"<UNK>\"\n",
        "index_word[3] = \"<UNUSED>\"\n",
        "\n",
        "def decode_review(encoded_seq):\n",
        "    return \" \".join(index_word.get(i, \"?\") for i in encoded_seq if i != 0)\n",
        "\n",
        "# Afficher un exemple décodé (portion)\n",
        "print(\"Exemple critique (décodée, tronquée) :\")\n",
        "print(decode_review(X_train[0])[:300], \"...\")\n"
      ]
    },
    {
      "cell_type": "markdown",
      "id": "aced8e19",
      "metadata": {
        "id": "aced8e19"
      },
      "source": [
        "\n",
        "## 🧠 4. Construction du Modèle LSTM\n",
        "Architecture simple :  \n",
        "**Embedding → LSTM(UNITS) → Dense(1, sigmoïde)**  \n",
        "- **Embedding** transforme les indices en vecteurs denses.  \n",
        "- **LSTM** gère la mémoire séquentielle.  \n",
        "- **Dense(1, sigmoïde)** produit une probabilité *positif*.\n"
      ]
    },
    {
      "cell_type": "code",
      "execution_count": 5,
      "id": "f6705317",
      "metadata": {
        "colab": {
          "base_uri": "https://localhost:8080/",
          "height": 273
        },
        "id": "f6705317",
        "outputId": "993c9d9f-3674-4961-f6b0-1ed29ff6cc37"
      },
      "outputs": [
        {
          "output_type": "stream",
          "name": "stderr",
          "text": [
            "/usr/local/lib/python3.12/dist-packages/keras/src/layers/core/embedding.py:97: UserWarning: Argument `input_length` is deprecated. Just remove it.\n",
            "  warnings.warn(\n"
          ]
        },
        {
          "output_type": "display_data",
          "data": {
            "text/plain": [
              "\u001b[1mModel: \"LSTM_IMDb\"\u001b[0m\n"
            ],
            "text/html": [
              "<pre style=\"white-space:pre;overflow-x:auto;line-height:normal;font-family:Menlo,'DejaVu Sans Mono',consolas,'Courier New',monospace\"><span style=\"font-weight: bold\">Model: \"LSTM_IMDb\"</span>\n",
              "</pre>\n"
            ]
          },
          "metadata": {}
        },
        {
          "output_type": "display_data",
          "data": {
            "text/plain": [
              "┏━━━━━━━━━━━━━━━━━━━━━━━━━━━━━━━━━┳━━━━━━━━━━━━━━━━━━━━━━━━┳━━━━━━━━━━━━━━━┓\n",
              "┃\u001b[1m \u001b[0m\u001b[1mLayer (type)                   \u001b[0m\u001b[1m \u001b[0m┃\u001b[1m \u001b[0m\u001b[1mOutput Shape          \u001b[0m\u001b[1m \u001b[0m┃\u001b[1m \u001b[0m\u001b[1m      Param #\u001b[0m\u001b[1m \u001b[0m┃\n",
              "┡━━━━━━━━━━━━━━━━━━━━━━━━━━━━━━━━━╇━━━━━━━━━━━━━━━━━━━━━━━━╇━━━━━━━━━━━━━━━┩\n",
              "│ embedding (\u001b[38;5;33mEmbedding\u001b[0m)           │ ?                      │   \u001b[38;5;34m0\u001b[0m (unbuilt) │\n",
              "├─────────────────────────────────┼────────────────────────┼───────────────┤\n",
              "│ lstm (\u001b[38;5;33mLSTM\u001b[0m)                     │ ?                      │   \u001b[38;5;34m0\u001b[0m (unbuilt) │\n",
              "├─────────────────────────────────┼────────────────────────┼───────────────┤\n",
              "│ output (\u001b[38;5;33mDense\u001b[0m)                  │ ?                      │   \u001b[38;5;34m0\u001b[0m (unbuilt) │\n",
              "└─────────────────────────────────┴────────────────────────┴───────────────┘\n"
            ],
            "text/html": [
              "<pre style=\"white-space:pre;overflow-x:auto;line-height:normal;font-family:Menlo,'DejaVu Sans Mono',consolas,'Courier New',monospace\">┏━━━━━━━━━━━━━━━━━━━━━━━━━━━━━━━━━┳━━━━━━━━━━━━━━━━━━━━━━━━┳━━━━━━━━━━━━━━━┓\n",
              "┃<span style=\"font-weight: bold\"> Layer (type)                    </span>┃<span style=\"font-weight: bold\"> Output Shape           </span>┃<span style=\"font-weight: bold\">       Param # </span>┃\n",
              "┡━━━━━━━━━━━━━━━━━━━━━━━━━━━━━━━━━╇━━━━━━━━━━━━━━━━━━━━━━━━╇━━━━━━━━━━━━━━━┩\n",
              "│ embedding (<span style=\"color: #0087ff; text-decoration-color: #0087ff\">Embedding</span>)           │ ?                      │   <span style=\"color: #00af00; text-decoration-color: #00af00\">0</span> (unbuilt) │\n",
              "├─────────────────────────────────┼────────────────────────┼───────────────┤\n",
              "│ lstm (<span style=\"color: #0087ff; text-decoration-color: #0087ff\">LSTM</span>)                     │ ?                      │   <span style=\"color: #00af00; text-decoration-color: #00af00\">0</span> (unbuilt) │\n",
              "├─────────────────────────────────┼────────────────────────┼───────────────┤\n",
              "│ output (<span style=\"color: #0087ff; text-decoration-color: #0087ff\">Dense</span>)                  │ ?                      │   <span style=\"color: #00af00; text-decoration-color: #00af00\">0</span> (unbuilt) │\n",
              "└─────────────────────────────────┴────────────────────────┴───────────────┘\n",
              "</pre>\n"
            ]
          },
          "metadata": {}
        },
        {
          "output_type": "display_data",
          "data": {
            "text/plain": [
              "\u001b[1m Total params: \u001b[0m\u001b[38;5;34m0\u001b[0m (0.00 B)\n"
            ],
            "text/html": [
              "<pre style=\"white-space:pre;overflow-x:auto;line-height:normal;font-family:Menlo,'DejaVu Sans Mono',consolas,'Courier New',monospace\"><span style=\"font-weight: bold\"> Total params: </span><span style=\"color: #00af00; text-decoration-color: #00af00\">0</span> (0.00 B)\n",
              "</pre>\n"
            ]
          },
          "metadata": {}
        },
        {
          "output_type": "display_data",
          "data": {
            "text/plain": [
              "\u001b[1m Trainable params: \u001b[0m\u001b[38;5;34m0\u001b[0m (0.00 B)\n"
            ],
            "text/html": [
              "<pre style=\"white-space:pre;overflow-x:auto;line-height:normal;font-family:Menlo,'DejaVu Sans Mono',consolas,'Courier New',monospace\"><span style=\"font-weight: bold\"> Trainable params: </span><span style=\"color: #00af00; text-decoration-color: #00af00\">0</span> (0.00 B)\n",
              "</pre>\n"
            ]
          },
          "metadata": {}
        },
        {
          "output_type": "display_data",
          "data": {
            "text/plain": [
              "\u001b[1m Non-trainable params: \u001b[0m\u001b[38;5;34m0\u001b[0m (0.00 B)\n"
            ],
            "text/html": [
              "<pre style=\"white-space:pre;overflow-x:auto;line-height:normal;font-family:Menlo,'DejaVu Sans Mono',consolas,'Courier New',monospace\"><span style=\"font-weight: bold\"> Non-trainable params: </span><span style=\"color: #00af00; text-decoration-color: #00af00\">0</span> (0.00 B)\n",
              "</pre>\n"
            ]
          },
          "metadata": {}
        }
      ],
      "source": [
        "def build_lstm_model():\n",
        "    model = Sequential(name=\"LSTM_IMDb\")\n",
        "    model.add(Embedding(VOCAB_SIZE, EMB_DIM, input_length=MAX_LEN, name=\"embedding\"))\n",
        "    model.add(LSTM(UNITS, dropout=0.2, name=\"lstm\"))\n",
        "    model.add(Dense(1, activation=\"sigmoid\", name=\"output\"))\n",
        "    model.compile(optimizer=\"adam\", loss=\"binary_crossentropy\", metrics=[\"accuracy\"])\n",
        "    return model\n",
        "\n",
        "model = build_lstm_model()\n",
        "model.summary()\n"
      ]
    },
    {
      "cell_type": "markdown",
      "id": "5d2ea97b",
      "metadata": {
        "id": "5d2ea97b"
      },
      "source": [
        "\n",
        "## 🏃 5. Entraînement & Courbes d'apprentissage\n",
        "- **Optimiseur** : Adam  \n",
        "- **Perte** : Binary Crossentropy  \n",
        "- **Callback** : *EarlyStopping* (évite le surapprentissage).  \n",
        "> Règles de tracé : **Matplotlib uniquement**, **un graphique par figure**, **couleurs par défaut**.\n"
      ]
    },
    {
      "cell_type": "code",
      "execution_count": 6,
      "id": "83c00844",
      "metadata": {
        "colab": {
          "base_uri": "https://localhost:8080/",
          "height": 1000
        },
        "id": "83c00844",
        "outputId": "bf36745d-3572-4d45-f82f-ed51d71e4367"
      },
      "outputs": [
        {
          "output_type": "stream",
          "name": "stdout",
          "text": [
            "Epoch 1/5\n",
            "\u001b[1m313/313\u001b[0m \u001b[32m━━━━━━━━━━━━━━━━━━━━\u001b[0m\u001b[37m\u001b[0m \u001b[1m177s\u001b[0m 555ms/step - accuracy: 0.6598 - loss: 0.5918 - val_accuracy: 0.8460 - val_loss: 0.3680\n",
            "Epoch 2/5\n",
            "\u001b[1m313/313\u001b[0m \u001b[32m━━━━━━━━━━━━━━━━━━━━\u001b[0m\u001b[37m\u001b[0m \u001b[1m175s\u001b[0m 559ms/step - accuracy: 0.8741 - loss: 0.3122 - val_accuracy: 0.8578 - val_loss: 0.3494\n",
            "Epoch 3/5\n",
            "\u001b[1m313/313\u001b[0m \u001b[32m━━━━━━━━━━━━━━━━━━━━\u001b[0m\u001b[37m\u001b[0m \u001b[1m173s\u001b[0m 552ms/step - accuracy: 0.9081 - loss: 0.2428 - val_accuracy: 0.8596 - val_loss: 0.3352\n",
            "Epoch 4/5\n",
            "\u001b[1m313/313\u001b[0m \u001b[32m━━━━━━━━━━━━━━━━━━━━\u001b[0m\u001b[37m\u001b[0m \u001b[1m198s\u001b[0m 540ms/step - accuracy: 0.9278 - loss: 0.1971 - val_accuracy: 0.8490 - val_loss: 0.4000\n",
            "Epoch 5/5\n",
            "\u001b[1m313/313\u001b[0m \u001b[32m━━━━━━━━━━━━━━━━━━━━\u001b[0m\u001b[37m\u001b[0m \u001b[1m171s\u001b[0m 548ms/step - accuracy: 0.9264 - loss: 0.1990 - val_accuracy: 0.8280 - val_loss: 0.4541\n"
          ]
        },
        {
          "output_type": "display_data",
          "data": {
            "text/plain": [
              "<Figure size 640x480 with 1 Axes>"
            ],
            "image/png": "[encoded data removed]"
          },
          "metadata": {}
        },
        {
          "output_type": "display_data",
          "data": {
            "text/plain": [
              "<Figure size 640x480 with 1 Axes>"
            ],
            "image/png": "[encoded data removed]"
          },
          "metadata": {}
        }
      ],
      "source": [
        "es = EarlyStopping(monitor=\"val_loss\", patience=2, restore_best_weights=True)\n",
        "\n",
        "history = model.fit(\n",
        "    X_train, y_train,\n",
        "    validation_split=VAL_SPLIT,\n",
        "    epochs=EPOCHS,\n",
        "    batch_size=BATCH_SIZE,\n",
        "    callbacks=[es],\n",
        "    verbose=1\n",
        ")\n",
        "\n",
        "# Courbe Loss\n",
        "plt.figure()\n",
        "plt.title(\"Loss — LSTM_IMDb\")\n",
        "plt.plot(history.history[\"loss\"], label=\"train\")\n",
        "plt.plot(history.history[\"val_loss\"], label=\"val\")\n",
        "plt.xlabel(\"Époque\")\n",
        "plt.ylabel(\"Binary Crossentropy\")\n",
        "plt.legend()\n",
        "plt.grid(True)\n",
        "plt.show()\n",
        "\n",
        "# Courbe Accuracy\n",
        "plt.figure()\n",
        "plt.title(\"Accuracy — LSTM_IMDb\")\n",
        "plt.plot(history.history[\"accuracy\"], label=\"train\")\n",
        "plt.plot(history.history[\"val_accuracy\"], label=\"val\")\n",
        "plt.xlabel(\"Époque\")\n",
        "plt.ylabel(\"Accuracy\")\n",
        "plt.legend()\n",
        "plt.grid(True)\n",
        "plt.show()\n"
      ]
    },
    {
      "cell_type": "markdown",
      "id": "6dd67f1a",
      "metadata": {
        "id": "6dd67f1a"
      },
      "source": [
        "\n",
        "## ✅ 6. Évaluation sur le jeu de test\n",
        "On mesure la **loss** et l’**accuracy** sur les données jamais vues.\n"
      ]
    },
    {
      "cell_type": "code",
      "execution_count": 7,
      "id": "fdb636ac",
      "metadata": {
        "colab": {
          "base_uri": "https://localhost:8080/"
        },
        "id": "fdb636ac",
        "outputId": "84c8ecb7-85fc-4fa5-a613-78b36a95715f"
      },
      "outputs": [
        {
          "output_type": "stream",
          "name": "stdout",
          "text": [
            "Loss test : 0.3446 | Accuracy test : 0.8574\n"
          ]
        }
      ],
      "source": [
        "test_loss, test_acc = model.evaluate(X_test, y_test, verbose=0)\n",
        "print(f\"Loss test : {test_loss:.4f} | Accuracy test : {test_acc:.4f}\")\n"
      ]
    },
    {
      "cell_type": "markdown",
      "id": "8da3b70d",
      "metadata": {
        "id": "8da3b70d"
      },
      "source": [
        "\n",
        "## 🧪 7. Prédire sur des phrases personnalisées\n",
        "Fonction utilitaire **`predict_text`** :  \n",
        "- tokenisation *naïve* via le dictionnaire IMDb (démonstration)  \n",
        "- `pad_sequences` → prédiction sigmoïde → **étiquette** (*Positif/Négatif*).\n"
      ]
    },
    {
      "cell_type": "code",
      "execution_count": 8,
      "id": "c59ce006",
      "metadata": {
        "colab": {
          "base_uri": "https://localhost:8080/"
        },
        "id": "c59ce006",
        "outputId": "b26afde2-b955-42d6-e244-29b5a13b8d82"
      },
      "outputs": [
        {
          "output_type": "stream",
          "name": "stdout",
          "text": [
            "Exemple 1: this movie was incredible and touching with great performances -> Positif (p=0.981)\n",
            "Exemple 2: the plot was boring and the acting was terrible -> Négatif (p=0.061)\n"
          ]
        }
      ],
      "source": [
        "def predict_text(model, raw_text, max_len=MAX_LEN, vocab_size=VOCAB_SIZE):\n",
        "    tokens = []\n",
        "    for w in raw_text.lower().split():\n",
        "        idx = word_index.get(w, None)\n",
        "        if idx is not None and idx < vocab_size:\n",
        "            tokens.append(idx+3)  # décalage IMDb\n",
        "        else:\n",
        "            tokens.append(2)      # <UNK>\n",
        "    seq = pad_sequences([tokens], maxlen=max_len)\n",
        "    p = model.predict(seq, verbose=0)[0,0]\n",
        "    label = \"Positif\" if p >= 0.5 else \"Négatif\"\n",
        "    return float(p), label\n",
        "\n",
        "ex_positif = \"this movie was incredible and touching with great performances\"\n",
        "ex_negatif = \"the plot was boring and the acting was terrible\"\n",
        "\n",
        "p_pos, l_pos = predict_text(model, ex_positif)\n",
        "p_neg, l_neg = predict_text(model, ex_negatif)\n",
        "\n",
        "print(\"Exemple 1:\", ex_positif, \"->\", l_pos, f\"(p={p_pos:.3f})\")\n",
        "print(\"Exemple 2:\", ex_negatif, \"->\", l_neg, f\"(p={p_neg:.3f})\")\n"
      ]
    },
    {
      "cell_type": "markdown",
      "id": "c84446d2",
      "metadata": {
        "id": "c84446d2"
      },
      "source": [
        "\n",
        "## 🧭 8. Conclusion & Pistes d'amélioration\n",
        "- Un **LSTM simple** atteint généralement ~**85%** d'accuracy sur IMDb (selon paramètres/époques).  \n",
        "- Pour aller plus loin :\n",
        "  - **Bidirectional(LSTM)** pour capter le contexte gauche/droite.  \n",
        "  - **Embeddings pré-entraînés** (*GloVe, Word2Vec*) au lieu d'un embedding aléatoire.  \n",
        "  - **Régularisation** : Dropout, *EarlyStopping*, *ReduceLROnPlateau*.  \n",
        "  - **Nettoyage NLP** plus riche : lowercasing, gestion de la ponctuation, stopwords, etc.\n",
        "\n",
        "> 🔁 Garder à l'esprit : la **cohérence des prétraitements** entre train/val/test et la reproductibilité.\n"
      ]
    }
  ],
  "metadata": {
    "colab": {
      "provenance": []
    },
    "language_info": {
      "name": "python"
    },
    "kernelspec": {
      "name": "python3",
      "display_name": "Python 3"
    }
  },
  "nbformat": 4,
  "nbformat_minor": 5
}